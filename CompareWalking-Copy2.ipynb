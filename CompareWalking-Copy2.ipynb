{
 "cells": [
  {
   "cell_type": "markdown",
   "id": "4b3921b2",
   "metadata": {},
   "source": [
    "# CS 6330\n",
    "## Final Project\n",
    "## Distinguish Between Three Walkers\n",
    "### Robert Burkhardt\n",
    "### Dan Olson\n",
    "### Rich Lukas\n",
    "### 2/14/23"
   ]
  },
  {
   "cell_type": "markdown",
   "id": "1b0b6030-5a8b-4548-aa3b-09111ca3caba",
   "metadata": {},
   "source": [
    "### Load Libraries"
   ]
  },
  {
   "cell_type": "code",
   "execution_count": 1,
   "id": "51b00417-ac2c-469c-a6ba-9c93e90431ee",
   "metadata": {},
   "outputs": [
    {
     "name": "stdout",
     "output_type": "stream",
     "text": [
      "Libraries Loaded\n"
     ]
    }
   ],
   "source": [
    "from collections import defaultdict as dd\n",
    "from IPython.display import display, HTML\n",
    "from matplotlib import pyplot as plt\n",
    "from ModelAuto.Multicollinearity import handel_Multico_VIF\n",
    "from mpl_toolkits import mplot3d\n",
    "from mpl_toolkits.mplot3d import Axes3D\n",
    "from numpy import *\n",
    "from numpy import linalg as LA\n",
    "from patsy import dmatrices\n",
    "from pylab import *\n",
    "from scipy import signal\n",
    "from scipy.sparse import csr_matrix, find\n",
    "from scipy.stats import chisquare\n",
    "from sklearn import datasets\n",
    "from sklearn import linear_model\n",
    "from sklearn import metrics\n",
    "from sklearn import preprocessing\n",
    "from sklearn.cluster import AgglomerativeClustering\n",
    "from sklearn.cluster import KMeans\n",
    "from sklearn.decomposition import PCA\n",
    "from sklearn.decomposition import TruncatedSVD\n",
    "from sklearn.ensemble import RandomForestRegressor\n",
    "from sklearn.feature_extraction.text import CountVectorizer\n",
    "from sklearn.feature_selection import chi2, f_regression\n",
    "from sklearn.feature_selection import SelectKBest\n",
    "from sklearn.linear_model import Ridge\n",
    "from sklearn.linear_model import RidgeCV\n",
    "from sklearn.linear_model import SGDRegressor\n",
    "from sklearn.metrics import mean_absolute_percentage_error\n",
    "from sklearn.metrics import mean_squared_error\n",
    "from sklearn.metrics import silhouette_score\n",
    "from sklearn.metrics.cluster import fowlkes_mallows_score\n",
    "from sklearn.metrics.cluster import rand_score\n",
    "from sklearn.model_selection import RepeatedKFold\n",
    "from sklearn.preprocessing import KBinsDiscretizer\n",
    "from sklearn.preprocessing import MinMaxScaler\n",
    "from sklearn.preprocessing import StandardScaler\n",
    "from statsmodels.stats.outliers_influence import variance_inflation_factor\n",
    "import datetime as dt\n",
    "import matplotlib.pyplot as plt\n",
    "import numpy as np\n",
    "import os\n",
    "import pandas as pd\n",
    "import plotly.express as px\n",
    "import plotly.graph_objects as go\n",
    "import random\n",
    "import scipy as sci\n",
    "import scipy.stats as stats\n",
    "import seaborn as sns\n",
    "import sklearn\n",
    "import sklearn.cluster as cluster\n",
    "import sklearn.metrics as metrics\n",
    "import statistics \n",
    "import statsmodels.api as sm\n",
    "import tensorflow as tf\n",
    "import time\n",
    "from sklearn.datasets import make_classification\n",
    "from sklearn.linear_model import LogisticRegression\n",
    "from sklearn.model_selection import train_test_split\n",
    "from sklearn.pipeline import make_pipeline\n",
    "from sklearn.preprocessing import StandardScaler\n",
    "from sklearn.model_selection import train_test_split\n",
    "from sklearn.linear_model import LogisticRegression\n",
    "from sklearn.metrics import accuracy_score\n",
    "from sklearn.metrics import confusion_matrix\n",
    "import matplotlib.pyplot as plt\n",
    "import seaborn as sns\n",
    "from sklearn.metrics import roc_curve, roc_auc_score\n",
    "from sklearn.metrics import precision_recall_curve\n",
    "from sklearn.metrics import average_precision_score\n",
    "import warnings\n",
    "warnings.filterwarnings(action='ignore', category=FutureWarning) # setting ignore as a parameter and further adding category\n",
    "print(\"Libraries Loaded\")"
   ]
  },
  {
   "cell_type": "code",
   "execution_count": 2,
   "id": "d6e54f38",
   "metadata": {},
   "outputs": [
    {
     "data": {
      "text/html": [
       "<style>.container { width:100% !important; }</style>"
      ],
      "text/plain": [
       "<IPython.core.display.HTML object>"
      ]
     },
     "metadata": {},
     "output_type": "display_data"
    }
   ],
   "source": [
    "from IPython.display import display, HTML\n",
    "display(HTML(\"<style>.container { width:100% !important; }</style>\"))\n",
    "\n"
   ]
  },
  {
   "cell_type": "markdown",
   "id": "435656d9-4508-450c-a66a-edaa98fbf73f",
   "metadata": {},
   "source": [
    "## Create Data Frames"
   ]
  },
  {
   "cell_type": "code",
   "execution_count": 3,
   "id": "e76908e0",
   "metadata": {},
   "outputs": [],
   "source": [
    "# !!! ONLY RUN THIS CELL ONCE\n",
    "# RESTART NOTEBOOK IF RUN MORE THAN ONCE\n",
    "notebook_path = os.path.abspath(\"\")"
   ]
  },
  {
   "cell_type": "markdown",
   "id": "be6b149d",
   "metadata": {},
   "source": [
    "#display(HTML(\"<script>$('div.cell.selected').children('div.output_wrapper').height(800);</script>\"))\n",
    "df_stairs = pd.DataFrame(columns=['time','gFx','gFy','gFz','wx','wy','wz','Unnamed: 7','time_elapsed'])\n",
    "df_walking = pd.DataFrame(columns=['time','gFx','gFy','gFz','wx','wy','wz','Unnamed: 7','time_elapsed'])\n",
    "df_sitting = pd.DataFrame(columns=['time','gFx','gFy','gFz','wx','wy','wz','Unnamed: 7','time_elapsed'])\n",
    "\n",
    "data_path = os.path.join(notebook_path, \"data\\\\dan-raw\")\n",
    "os.chdir(data_path)\n",
    "\n",
    "#os.chdir('./Stairs')\n",
    "# Get the list of all files and directories\n",
    "for x in os.listdir():\n",
    "    if x.endswith(\"walking normally.csv\"):\n",
    "        df = pd.read_csv(x)\n",
    "        df['time_elapsed'] = round(df['time']*1e6)\n",
    "        df['type'] = 'D'\n",
    "        df_stairs = df_stairs.append(df, ignore_index=True) \n",
    "df_stairs = df_stairs.drop('Unnamed: 7', axis=1) \n",
    "df_stairs.reset_index(inplace = True,drop=True)\n",
    "df_stairs = df_stairs.dropna(axis = 0, how ='any')\n",
    "print(df_stairs.shape)\n",
    "\n",
    "data_path = os.path.join(notebook_path, \"data\\\\richard-raw\\\\Logs_walking_straight\")\n",
    "os.chdir(data_path)\n",
    "\n",
    "# Get the list of all files and directories\n",
    "for x in os.listdir():\n",
    "    if x.endswith(\"Hard.csv\"):\n",
    "        df = pd.read_csv(x)\n",
    "        df['time_elapsed'] = round(df['time']*1e6)\n",
    "        df['type'] = 'L'\n",
    "        df_walking = df_walking.append(df, ignore_index=True) \n",
    "df_walking = df_walking.drop('Unnamed: 7', axis=1) \n",
    "df_walking = df_walking.dropna(axis = 0, how ='any')\n",
    "df_walking.reset_index(inplace = True,drop=True)\n",
    "print(df_walking.shape)\n",
    "\n",
    "\n",
    "#df_combined = df_walking.append(df_stairs, ignore_index=True) \n",
    "df_combined = pd.concat([df_walking, df_stairs])\n",
    "df_combined = df_combined.drop('time', axis=1)\n",
    "df_combined = df_combined.drop('time_elapsed', axis=1)\n",
    "df_combined.reset_index(inplace = True,drop=True)\n",
    "\n",
    "print(\"DataFrames Created\")\n",
    "\n",
    "\n"
   ]
  },
  {
   "cell_type": "markdown",
   "id": "2b516b33-0425-4151-b62b-443b72e10c4f",
   "metadata": {},
   "source": [
    "df_combined[df_combined['type'] == \"L\"].info()"
   ]
  },
  {
   "cell_type": "markdown",
   "id": "ba51194c-4818-42ef-9a83-bd55eae2f90d",
   "metadata": {},
   "source": [
    "## Create Stratified Test Train Split\n",
    "### Scale Data with Zero mean and Unity Variance"
   ]
  },
  {
   "cell_type": "markdown",
   "id": "14d1f479",
   "metadata": {},
   "source": [
    "X = df_combined.copy(deep = True)\n",
    "#X.pop('time')\n",
    "#X.pop('time_elapsed')\n",
    "y = X.pop('type')\n",
    "X_train, X_test, y_train, y_test = train_test_split(X, y, stratify=y, test_size=0.25)\n",
    "print('\\nThe size of the X_train is ' + str(X_train.shape[0]) + ' by ' + str(X_train.shape[1]) )\n",
    "print('\\nThe size of the X_test is ' + str(X_test.shape[0]) + ' by ' + str(X_test.shape[1]) )\n",
    "scaler = preprocessing.StandardScaler().fit(X_train)\n",
    "#min_max_scaler = preprocessing.MinMaxScaler()\n",
    "X_train = scaler.fit_transform(X_train)\n",
    "X_test = scaler.transform(X_test)"
   ]
  },
  {
   "cell_type": "markdown",
   "id": "dbef1c52-58a1-476d-9d9c-d1c8a3a5b07e",
   "metadata": {},
   "source": [
    "## Run a Grid Search to Optimize the MLP Model Parameters\n",
    "### This takes a long time to run"
   ]
  },
  {
   "cell_type": "markdown",
   "id": "984bbd98",
   "metadata": {},
   "source": [
    "from sklearn.neural_network import MLPClassifier\n",
    "mlp = MLPClassifier(max_iter=100,early_stopping = True)\n",
    "\n",
    "#parameter_space = {\n",
    "#    'hidden_layer_sizes': [(100,), (125,)],\n",
    "#    'activation': ['tanh', 'relu','logistic'],\n",
    "#    'solver': ['sgd', 'adam','lbfgs'],\n",
    "#    'alpha': [0.00001,0.0001],\n",
    "#    'learning_rate': ['constant'],\n",
    "#}\n",
    "#'''\n",
    "parameter_space = {\n",
    "    'hidden_layer_sizes': [(100,), (125,)],\n",
    "    'activation': ['tanh', 'relu','logistic'],\n",
    "    'solver': ['lbfgs'],\n",
    "    'alpha': [0.0001],\n",
    "    'learning_rate': ['constant'],\n",
    "}\n",
    "#'''\n",
    "\n",
    "from sklearn.model_selection import GridSearchCV\n",
    "\n",
    "clf = GridSearchCV(mlp, parameter_space, n_jobs=-1, cv=3)\n",
    "clf.fit(X_train, y_train)\n",
    "\n",
    "# Best paramete set\n",
    "print('Best parameters found:\\n', clf.best_params_)\n",
    "\n",
    "# All results\n",
    "means = clf.cv_results_['mean_test_score']\n",
    "stds = clf.cv_results_['std_test_score']\n",
    "for mean, std, params in zip(means, stds, clf.cv_results_['params']):\n",
    "    print(\"%0.3f (+/-%0.03f) for %r\" % (mean, std * 2, params))\n",
    "    \n",
    "y_true, y_pred = y_test , clf.predict(X_test)\n",
    "\n",
    "from sklearn.metrics import classification_report\n",
    "print('Results on the test set:')\n",
    "print(classification_report(y_true, y_pred))\n",
    "\n",
    "plt.figure()\n",
    "heatmap = sns.heatmap(df_cm, annot=True, cmap=\"Blues\",fmt=\"d\")\n",
    "heatmap.yaxis.set_ticklabels(heatmap.yaxis.get_ticklabels(), rotation=0, ha='right')\n",
    "heatmap.xaxis.set_ticklabels(heatmap.xaxis.get_ticklabels(), rotation=45, ha='right')\n",
    "plt.ylabel('True label')\n",
    "plt.xlabel('Predicted label')\n",
    "Score_model = round(NN.score(X_test,y_pred), 4)\n",
    "Accuracy_model = round(accuracy_score(y_test, y_pred),4)\n",
    "plt.title('MLP Classifier Model Results with Score %5.4f and Accuracy %5.4f' % (Score_model, Accuracy_model))\n",
    "#plt.title('MLPClassifier Model Results')\n",
    "plt.show()\n",
    "\n",
    "y_pred_proba = NN.predict_proba(np.array(X_test))[:,1]\n",
    "y_test1 = y_test.replace('D',  0)\n",
    "y_test1 = y_test1.replace('L',  1)\n",
    "#y_test1 = y_test1.replace('C',  2)\n",
    "fpr, tpr, thresholds = roc_curve(y_test1, y_pred_proba)\n",
    "sns.set()\n",
    "plt.plot(fpr, tpr)\n",
    "plt.plot(fpr, fpr, linestyle = '--', color = 'k')\n",
    "plt.xlabel('False positive rate')\n",
    "plt.ylabel('True positive rate')\n",
    "AUROC = np.round(roc_auc_score(y_test, y_pred_proba), 3)\n",
    "plt.title(f'MLPClassifier Model ROC curve; AUROC: {AUROC}');\n",
    "plt.show()\n",
    "\n",
    "\n",
    "average_precision = average_precision_score(y_test1, y_pred_proba)\n",
    "precision, recall, thresholds = precision_recall_curve(y_test1, y_pred_proba)\n",
    "plt.plot(recall, precision, marker='.', label='MLP')\n",
    "plt.xlabel('Recall')\n",
    "plt.ylabel('Precision')\n",
    "plt.legend()\n",
    "average_precision = np.round(average_precision, 3)\n",
    "plt.title(f'Precision Recall Curve. AUPRC: {average_precision}')\n",
    "plt.show()"
   ]
  },
  {
   "cell_type": "markdown",
   "id": "3f22df88-5836-420c-a0a1-eb5bdf8f0989",
   "metadata": {},
   "source": [
    "## Create a MLP Classifier Model\n",
    "### NN = MLPClassifier(activation = \"tanh\", solver='lbfgs', alpha=0.0001, hidden_layer_sizes=(125, ), learning_rate = \"constant\", random_state=1,max_iter=200,early_stopping = True)"
   ]
  },
  {
   "cell_type": "markdown",
   "id": "6fdce63d",
   "metadata": {},
   "source": [
    "from sklearn.neural_network import MLPClassifier\n",
    "# {'activation': 'tanh', 'alpha': 0.0001, 'hidden_layer_sizes': (125,), 'learning_rate': 'constant', 'solver': 'lbfgs'}\n",
    "NN = MLPClassifier(activation = \"tanh\", solver='lbfgs', alpha=0.0001, hidden_layer_sizes=(125, ), learning_rate = \"constant\", random_state=1,max_iter=200,early_stopping = True)\n",
    "NN.fit(X_train, y_train)\n",
    "yhat = NN.predict(X_test)\n",
    "#print(\"Score: \", round(NN.score(X_test,yhat), 4))\n",
    "#print(\"Accuracy: \", accuracy_score(y_test, yhat))\n",
    "conmat = confusion_matrix(y_test, yhat)\n",
    "val = np.mat(conmat) \n",
    "classnames = list(set(y_test))\n",
    "classnames.reverse()\n",
    "df_cm = pd.DataFrame(\n",
    "        val, index=classnames, columns=classnames, \n",
    "    )\n",
    "\n",
    "#print(df_cm)\n",
    "\n",
    "plt.figure()\n",
    "heatmap = sns.heatmap(df_cm, annot=True, cmap=\"Blues\",fmt=\"d\")\n",
    "heatmap.yaxis.set_ticklabels(heatmap.yaxis.get_ticklabels(), rotation=0, ha='right')\n",
    "heatmap.xaxis.set_ticklabels(heatmap.xaxis.get_ticklabels(), rotation=45, ha='right')\n",
    "plt.ylabel('True label')\n",
    "plt.xlabel('Predicted label')\n",
    "Score_model = round(NN.score(X_test,yhat), 4)\n",
    "Accuracy_model = round(accuracy_score(y_test, yhat),4)\n",
    "plt.title('MLP Classifier Model Results with Score %5.4f and Accuracy %5.4f' % (Score_model, Accuracy_model))\n",
    "plt.show() \n",
    "\n",
    "y_pred_proba = NN.predict_proba(np.array(X_test))[:,1]\n",
    "y_test1 = y_test.replace('D',  0)\n",
    "y_test1 = y_test1.replace('L',  1)\n",
    "#y_test1 = y_test1.replace('C',  2)\n",
    "fpr, tpr, thresholds = roc_curve(y_test1, y_pred_proba)\n",
    "sns.set()\n",
    "plt.plot(fpr, tpr)\n",
    "plt.plot(fpr, fpr, linestyle = '--', color = 'k')\n",
    "plt.xlabel('False positive rate')\n",
    "plt.ylabel('True positive rate')\n",
    "AUROC = np.round(roc_auc_score(y_test, y_pred_proba), 3)\n",
    "plt.title(f'MLPClassifier Model ROC curve; AUROC: {AUROC}');\n",
    "plt.show()\n",
    "\n",
    "\n",
    "average_precision = average_precision_score(y_test1, y_pred_proba)\n",
    "precision, recall, thresholds = precision_recall_curve(y_test1, y_pred_proba)\n",
    "plt.plot(recall, precision, marker='.', label='MLP')\n",
    "plt.xlabel('Recall')\n",
    "plt.ylabel('Precision')\n",
    "plt.legend()\n",
    "average_precision = np.round(average_precision, 3)\n",
    "plt.title(f'Precision Recall Curve. AUPRC: {average_precision}')\n",
    "plt.show()"
   ]
  },
  {
   "cell_type": "markdown",
   "id": "cb3cb64b",
   "metadata": {},
   "source": [
    "## Experimenting with adding a low pass filter"
   ]
  },
  {
   "cell_type": "code",
   "execution_count": 4,
   "id": "2076c967",
   "metadata": {},
   "outputs": [],
   "source": [
    "def butter_lowpass_filter(data, cutoff, fs, order):\n",
    "    normal_cutoff = cutoff / nyq\n",
    "    # Get the filter coefficients \n",
    "    b, a = butter(order, normal_cutoff, btype='low', analog=False)\n",
    "    y = filtfilt(b, a, data)\n",
    "    return y\n",
    "\n",
    "def butter_highpass_filter(data, cutoff, fs, order):\n",
    "    normal_cutoff = cutoff / nyq\n",
    "    # Get the filter coefficients \n",
    "    b, a = butter(order, normal_cutoff, btype='high', analog=False)\n",
    "    y = filtfilt(b, a, data)\n",
    "    return y\n",
    "\n",
    "def butter_bandpass_filter(data, cutoff_low, cuttoff_high, fs, order):\n",
    "    normal_cutoff_low = cutoff_low / nyq\n",
    "    normal_cutoff_high = cutoff_high / nyq    \n",
    "    # Get the filter coefficients \n",
    "    b, a = butter(order, [normal_cutoff_low,normal_cutoff_high], btype='band', analog=False)\n",
    "    y = filtfilt(b, a, data)\n",
    "    return y\n",
    "\n",
    "def signaltonoise(a, axis=0, ddof=0):\n",
    "    a = np.asanyarray(a)\n",
    "    m = a.mean(axis)\n",
    "    sd = a.std(axis=axis, ddof=ddof)\n",
    "    return np.where(sd == 0, 0, m/sd)\n"
   ]
  },
  {
   "cell_type": "markdown",
   "id": "bda279cc",
   "metadata": {},
   "source": [
    "## Add a Third Walker"
   ]
  },
  {
   "cell_type": "code",
   "execution_count": 21,
   "id": "7defdf0b",
   "metadata": {},
   "outputs": [
    {
     "name": "stdout",
     "output_type": "stream",
     "text": [
      "(3597, 8)\n",
      "(9075, 8)\n",
      "(9998, 8)\n",
      "DataFrames Created\n"
     ]
    }
   ],
   "source": [
    "#display(HTML(\"<script>$('div.cell.selected').children('div.output_wrapper').height(800);</script>\"))\n",
    "df_stairs = pd.DataFrame(columns=['time','gFx','gFy','gFz','wx','wy','wz','type'])\n",
    "df_walking = pd.DataFrame(columns=['time','gFx','gFy','gFz','wx','wy','wz','type'])\n",
    "df_walking1 = pd.DataFrame(columns=['time','gFx','gFy','gFz','wx','wy','wz','type'])\n",
    "df_sitting = pd.DataFrame(columns=['time','gFx','gFy','gFz','wx','wy','wz','type'])\n",
    "# time\tgFx\tgFy\tgFz\twx\twy\twz\n",
    "\n",
    "data_path = os.path.join(notebook_path, \"data\\\\dan-raw\")\n",
    "os.chdir(data_path)\n",
    "\n",
    "#os.chdir('./Stairs')\n",
    "# Get the list of all files and directories\n",
    "for x in os.listdir():\n",
    "    if x.endswith(\"WalkingTrain.csv\"):\n",
    "        df = pd.read_csv(x)\n",
    "        #df['time_elapsed'] = round(df['time']*1e6)\n",
    "        df['type'] = 'D'\n",
    "        df_stairs = df_stairs.append(df, ignore_index=True) \n",
    "#df_stairs = df_stairs.drop('Unnamed: 7', axis=1) \n",
    "df_stairs.reset_index(inplace = True,drop=True)\n",
    "df_stairs = df_stairs.dropna(axis = 0, how ='any')\n",
    "print(df_stairs.shape)\n",
    "\n",
    "data_path = os.path.join(notebook_path, \"data\\\\richard-raw\\\\Logs_walking_straight\\\\Cross\")\n",
    "os.chdir(data_path)\n",
    "\n",
    "# Get the list of all files and directories\n",
    "for x in os.listdir():\n",
    "    if x.endswith(\"WalkingTrain.csv\"): #Hard\n",
    "        df = pd.read_csv(x)\n",
    "        #df['time_elapsed'] = round(df['time']*1e6)\n",
    "        df['type'] = 'L'\n",
    "        df_walking = df_walking.append(df, ignore_index=True) \n",
    "\n",
    "#df_walking = df_walking.drop('Unnamed: 7', axis=1) \n",
    "df_walking = df_walking.dropna(axis = 0, how ='any')\n",
    "df_walking.reset_index(inplace = True,drop=True)\n",
    "\n",
    "#df_walking1 = df_walking1.drop('Unnamed: 7', axis=1) \n",
    "\n",
    "print(df_walking.shape)\n",
    "#print(df_walking1.shape)\n",
    "\n",
    "\n",
    "data_path = os.path.join(notebook_path, \"data\\\\george-raw\\\\Modified\")\n",
    "os.chdir(data_path)\n",
    "\n",
    "# Get the list of all files and directories\n",
    "for x in os.listdir():\n",
    "    if x.endswith(\"WalkingTrain.csv\"):\n",
    "        df = pd.read_csv(x)\n",
    "        #df['time_elapsed'] = (df['time'])\n",
    "        df['type'] = 'G'\n",
    "        df_sitting = df_sitting.append(df, ignore_index=True) \n",
    "#df_sitting = df_sitting.drop('Unnamed: 7', axis=1) \n",
    "df_sitting = df_sitting.dropna(axis = 0, how ='any')\n",
    "df_sitting.reset_index(inplace = True,drop=True)\n",
    "print(df_sitting.shape)\n",
    "\n",
    "df_combined3 = pd.concat([df_walking, df_stairs, df_sitting])\n",
    "df_combined3 = df_combined3.drop('time', axis=1)\n",
    "#df_combined3 = df_combined3.drop('time_elapsed', axis=1)\n",
    "df_combined3.reset_index(inplace = True,drop=True)\n",
    "\n",
    "print(\"DataFrames Created\")\n",
    "\n",
    "\n",
    "#print(df_walking1.info())"
   ]
  },
  {
   "cell_type": "markdown",
   "id": "ebec20f0",
   "metadata": {},
   "source": [
    "##  Create Validation Data"
   ]
  },
  {
   "cell_type": "code",
   "execution_count": 22,
   "id": "9c987ebd",
   "metadata": {},
   "outputs": [
    {
     "name": "stdout",
     "output_type": "stream",
     "text": [
      "(1073, 8)\n",
      "(1498, 8)\n",
      "(998, 8)\n",
      "(3569, 7)\n",
      "DataFrames Created\n"
     ]
    }
   ],
   "source": [
    "#display(HTML(\"<script>$('div.cell.selected').children('div.output_wrapper').height(800);</script>\"))\n",
    "df_stairs = pd.DataFrame(columns=['time','gFx','gFy','gFz','wx','wy','wz','type'])\n",
    "df_walking = pd.DataFrame(columns=['time','gFx','gFy','gFz','wx','wy','wz','type'])\n",
    "df_sitting = pd.DataFrame(columns=['time','gFx','gFy','gFz','wx','wy','wz','type'])\n",
    "# time\tgFx\tgFy\tgFz\twx\twy\twz\n",
    "\n",
    "data_path = os.path.join(notebook_path, \"data\\\\dan-raw\")\n",
    "os.chdir(data_path)\n",
    "\n",
    "#os.chdir('./Stairs')\n",
    "# Get the list of all files and directories\n",
    "for x in os.listdir():\n",
    "    if x.endswith(\"walkingVal.csv\"):\n",
    "        df = pd.read_csv(x)\n",
    "        #df['time_elapsed'] = round(df['time']*1e6)\n",
    "        df['type'] = 'D'\n",
    "        df_stairs = df_stairs.append(df, ignore_index=True) \n",
    "#df_stairs = df_stairs.drop('Unnamed: 7', axis=1) \n",
    "df_stairs.reset_index(inplace = True,drop=True)\n",
    "df_stairs = df_stairs.dropna(axis = 0, how ='any')\n",
    "print(df_stairs.shape)\n",
    "\n",
    "data_path = os.path.join(notebook_path, \"data\\\\richard-raw\\\\Logs_walking_straight\\\\Cross\")\n",
    "os.chdir(data_path)\n",
    "\n",
    "# Get the list of all files and directories\n",
    "for x in os.listdir():\n",
    "    if x.endswith(\"walkingVal.csv\"):\n",
    "        df1 = pd.read_csv(x)\n",
    "        #df['time_elapsed'] = round(df['time']*1e6)\n",
    "        df1['type'] = 'L'\n",
    "        df_walking = df_walking.append(df1, ignore_index=True) \n",
    "#df_walking = df_walking.drop('Unnamed: 7', axis=1) \n",
    "df_walking = df_walking.dropna(axis = 0, how ='any')\n",
    "df_walking.reset_index(inplace = True,drop=True)\n",
    "print(df_walking.shape)\n",
    "#print(df_walking.shape)\n",
    "\n",
    "\n",
    "data_path = os.path.join(notebook_path, \"data\\\\george-raw\\\\Modified\")\n",
    "os.chdir(data_path)\n",
    "df = df.iloc[0:0]\n",
    "# Get the list of all files and directories\n",
    "for x in os.listdir():\n",
    "    if x.endswith(\"walkingVal.csv\"):\n",
    "        df = pd.read_csv(x)\n",
    "        #df['time_elapsed'] = (df['time'])\n",
    "        df['type'] = 'G'\n",
    "        df_sitting = df_sitting.append(df, ignore_index=True) \n",
    "#df_sitting = df_sitting.drop('Unnamed: 7', axis=1) \n",
    "df_sitting = df_sitting.dropna(axis = 0, how ='any')\n",
    "df_sitting.reset_index(inplace = True,drop=True)\n",
    "print(df_sitting.shape)\n",
    "\n",
    "df_val = pd.concat([df_walking, df_stairs, df_sitting])\n",
    "df_val = df_val.drop('time', axis=1)\n",
    "#df_combined3 = df_combined3.drop('time_elapsed', axis=1)\n",
    "df_val.reset_index(inplace = True,drop=True)\n",
    "print(df_val.shape)\n",
    "print(\"DataFrames Created\")\n",
    "\n",
    "\n",
    "#print(df_walking.info())"
   ]
  },
  {
   "cell_type": "markdown",
   "id": "b32614d3",
   "metadata": {},
   "source": [
    "## Create a Sliding Window of Input Vectors using a lagged input"
   ]
  },
  {
   "cell_type": "markdown",
   "id": "11ad2c47",
   "metadata": {},
   "source": [
    "## Create a 15 element input vector consisting of wx,wy,wz gz,gy,gz wxm1... gzm1... and EWMA valus of wx,wy,wz for alpha = 0.1"
   ]
  },
  {
   "cell_type": "code",
   "execution_count": 23,
   "id": "4442b1b1",
   "metadata": {},
   "outputs": [
    {
     "name": "stderr",
     "output_type": "stream",
     "text": [
      "c:\\python37\\lib\\site-packages\\pandas\\core\\indexing.py:1732: SettingWithCopyWarning: \n",
      "A value is trying to be set on a copy of a slice from a DataFrame\n",
      "\n",
      "See the caveats in the documentation: https://pandas.pydata.org/pandas-docs/stable/user_guide/indexing.html#returning-a-view-versus-a-copy\n",
      "  self._setitem_single_block(indexer, value, name)\n"
     ]
    },
    {
     "name": "stdout",
     "output_type": "stream",
     "text": [
      "\n",
      "The size of the X_train is 17002 by 15\n",
      "\n",
      "The size of the X_test is 5668 by 15\n"
     ]
    }
   ],
   "source": [
    "X = df_combined3.copy(deep = True)\n",
    "#Xval = df_walking1.copy(deep = True)\n",
    "\n",
    "if True:\n",
    "    X['gFxm1'] = X['gFx']\n",
    "    X['gFym1'] = X['gFy']\n",
    "    X['gFzm1'] = X['gFz']\n",
    "\n",
    "    X['gFxm1'].iloc[1:] = X['gFx'].iloc[0:-1]\n",
    "    X['gFym1'].iloc[1:] = X['gFy'].iloc[0:-1]\n",
    "    X['gFzm1'].iloc[1:] = X['gFz'].iloc[0:-1]\n",
    "\n",
    "if True:\n",
    "    X['wxm1'] = X['wx']\n",
    "    X['wym1'] = X['wy']\n",
    "    X['wzm1'] = X['wz']\n",
    "\n",
    "    X['wxm1'].iloc[1:] = X['wx'].iloc[0:-1]\n",
    "    X['wym1'].iloc[1:] = X['wy'].iloc[0:-1]\n",
    "    X['wzm1'].iloc[1:] = X['wz'].iloc[0:-1]\n",
    "    \n",
    "if True:\n",
    "    X['wxE'] = X['wx']\n",
    "    X['wyE'] = X['wy']\n",
    "    X['wzE'] = X['wz']   \n",
    "    \n",
    "    alpha = 0.1\n",
    "    for i in range(1,len(X['wx'])):\n",
    "        X['wxE'].loc[i] = round(alpha*X['wx'].loc[i] + (1-alpha)*X['wxE'].loc[i-1],4)\n",
    "        X['wyE'].loc[i] = round(alpha*X['wy'].loc[i] + (1-alpha)*X['wyE'].loc[i-1],4)\n",
    "        X['wzE'].loc[i] = round(alpha*X['wz'].loc[i] + (1-alpha)*X['wzE'].loc[i-1],4)\n",
    "        \n",
    "\n",
    "y = X.pop('type')\n",
    "X_train, X_test, y_train, y_test = train_test_split(X, y, stratify=y, test_size=0.25)\n",
    "print('\\nThe size of the X_train is ' + str(X_train.shape[0]) + ' by ' + str(X_train.shape[1]) )\n",
    "print('\\nThe size of the X_test is ' + str(X_test.shape[0]) + ' by ' + str(X_test.shape[1]) )\n",
    "scaler = preprocessing.StandardScaler().fit(X_train)\n",
    "#min_max_scaler = preprocessing.MinMaxScaler()\n",
    "X_train = scaler.fit_transform(X_train)\n",
    "X_test = scaler.transform(X_test)"
   ]
  },
  {
   "cell_type": "code",
   "execution_count": 24,
   "id": "5d143667",
   "metadata": {},
   "outputs": [
    {
     "name": "stderr",
     "output_type": "stream",
     "text": [
      "c:\\python37\\lib\\site-packages\\pandas\\core\\indexing.py:1732: SettingWithCopyWarning: \n",
      "A value is trying to be set on a copy of a slice from a DataFrame\n",
      "\n",
      "See the caveats in the documentation: https://pandas.pydata.org/pandas-docs/stable/user_guide/indexing.html#returning-a-view-versus-a-copy\n",
      "  self._setitem_single_block(indexer, value, name)\n"
     ]
    },
    {
     "name": "stdout",
     "output_type": "stream",
     "text": [
      "\n",
      "The size of the X validation data is 3569 by 15\n"
     ]
    }
   ],
   "source": [
    "X = df_val.copy(deep = True)\n",
    "\n",
    "if True:\n",
    "    X['gFxm1'] = X['gFx']\n",
    "    X['gFym1'] = X['gFy']\n",
    "    X['gFzm1'] = X['gFz']\n",
    "\n",
    "    X['gFxm1'].iloc[1:] = X['gFx'].iloc[0:-1]\n",
    "    X['gFym1'].iloc[1:] = X['gFy'].iloc[0:-1]\n",
    "    X['gFzm1'].iloc[1:] = X['gFz'].iloc[0:-1]\n",
    "\n",
    "if True:\n",
    "    X['wxm1'] = X['wx']\n",
    "    X['wym1'] = X['wy']\n",
    "    X['wzm1'] = X['wz']\n",
    "\n",
    "    X['wxm1'].iloc[1:] = X['wx'].iloc[0:-1]\n",
    "    X['wym1'].iloc[1:] = X['wy'].iloc[0:-1]\n",
    "    X['wzm1'].iloc[1:] = X['wz'].iloc[0:-1]\n",
    "    \n",
    "if True:\n",
    "    X['wxE'] = X['wx']\n",
    "    X['wyE'] = X['wy']\n",
    "    X['wzE'] = X['wz']   \n",
    "    \n",
    "    alpha = 0.1\n",
    "    for i in range(1,len(X['wx'])):\n",
    "        X['wxE'].loc[i] = round(alpha*X['wx'].loc[i] + (1-alpha)*X['wxE'].loc[i-1],4)\n",
    "        X['wyE'].loc[i] = round(alpha*X['wy'].loc[i] + (1-alpha)*X['wyE'].loc[i-1],4)\n",
    "        X['wzE'].loc[i] = round(alpha*X['wz'].loc[i] + (1-alpha)*X['wzE'].loc[i-1],4)\n",
    "        \n",
    "\n",
    "y = X.pop('type')\n",
    "\n",
    "#scaler = preprocessing.StandardScaler().fit(X)\n",
    "#min_max_scaler = preprocessing.MinMaxScaler()\n",
    "X = scaler.transform(X)\n",
    "print('\\nThe size of the X validation data is ' + str(X.shape[0]) + ' by ' + str(X.shape[1]) )"
   ]
  },
  {
   "cell_type": "code",
   "execution_count": 27,
   "id": "1b0ea008",
   "metadata": {
    "scrolled": false
   },
   "outputs": [
    {
     "data": {
      "image/png": "[encoded data removed]",
      "text/plain": [
       "<Figure size 640x480 with 2 Axes>"
      ]
     },
     "metadata": {},
     "output_type": "display_data"
    }
   ],
   "source": [
    "from sklearn.neural_network import MLPClassifier\n",
    "# {'activation': 'tanh', 'alpha': 0.0001, 'hidden_layer_sizes': (125,), 'learning_rate': 'constant', random_state=1,'solver': 'lbfgs'}\n",
    "NN = MLPClassifier(activation = \"relu\", solver='sgd', alpha=0.0001, hidden_layer_sizes=(100, ), learning_rate = \"constant\", max_iter=100, shuffle = True, early_stopping = True)\n",
    "NN.fit(X_train, y_train)\n",
    "yhat = NN.predict(X_test)\n",
    "#print(\"Score: \", round(NN.score(X_test,yhat), 4))\n",
    "#print(\"Accuracy: \", accuracy_score(y_test, yhat))\n",
    "conmat = confusion_matrix(y_test, yhat)\n",
    "val = np.mat(conmat) \n",
    "classnames = list(set(y_test))\n",
    "classnames.reverse()\n",
    "df_cm = pd.DataFrame(\n",
    "        val, index=classnames, columns=classnames, \n",
    "    )\n",
    "\n",
    "#print(df_cm)\n",
    "\n",
    "plt.figure()\n",
    "heatmap = sns.heatmap(df_cm, annot=True, cmap=\"Blues\",fmt=\"d\")\n",
    "heatmap.yaxis.set_ticklabels(heatmap.yaxis.get_ticklabels(), rotation=0, ha='right')\n",
    "heatmap.xaxis.set_ticklabels(heatmap.xaxis.get_ticklabels(), rotation=45, ha='right')\n",
    "plt.ylabel('True label')\n",
    "plt.xlabel('Predicted label')\n",
    "Score_model = round(NN.score(X_test,yhat), 4)\n",
    "Accuracy_model = round(accuracy_score(y_test, yhat),4)\n",
    "plt.title('MLP Classifier Model Identifing Walker using Test Train split.  Uses Lagged inputs and a LPF. Results with Score %5.4f and Accuracy %5.4f' % (Score_model, Accuracy_model))\n",
    "plt.show() "
   ]
  },
  {
   "cell_type": "code",
   "execution_count": 28,
   "id": "342d098d",
   "metadata": {},
   "outputs": [
    {
     "data": {
      "image/png": "[encoded data removed]",
      "text/plain": [
       "<Figure size 640x480 with 2 Axes>"
      ]
     },
     "metadata": {},
     "output_type": "display_data"
    }
   ],
   "source": [
    "yhat = NN.predict(X)\n",
    "conmat = confusion_matrix(y, yhat)\n",
    "val = np.mat(conmat) \n",
    "classnames = list(set(y_test))\n",
    "classnames.reverse()\n",
    "df_cm = pd.DataFrame(\n",
    "        val, index=classnames, columns=classnames, \n",
    "    )\n",
    "\n",
    "#print(df_cm)\n",
    "\n",
    "plt.figure()\n",
    "heatmap = sns.heatmap(df_cm, annot=True, cmap=\"Blues\",fmt=\"d\")\n",
    "heatmap.yaxis.set_ticklabels(heatmap.yaxis.get_ticklabels(), rotation=0, ha='right')\n",
    "heatmap.xaxis.set_ticklabels(heatmap.xaxis.get_ticklabels(), rotation=45, ha='right')\n",
    "plt.ylabel('True label')\n",
    "plt.xlabel('Predicted label')\n",
    "Score_model = round(NN.score(X,yhat), 4)\n",
    "Accuracy_model = round(accuracy_score(y, yhat),4)\n",
    "plt.title('MLP Classifier Model Identifing Walker using Validation Data.  Uses Lagged inputs and a LPF. Results with Score %5.4f and Accuracy %5.4f' % (Score_model, Accuracy_model))\n",
    "plt.show() "
   ]
  },
  {
   "cell_type": "code",
   "execution_count": null,
   "id": "06cf6160",
   "metadata": {},
   "outputs": [],
   "source": []
  },
  {
   "cell_type": "code",
   "execution_count": null,
   "id": "f95d29b3",
   "metadata": {},
   "outputs": [],
   "source": []
  }
 ],
 "metadata": {
  "kernelspec": {
   "display_name": "Python 3 (ipykernel)",
   "language": "python",
   "name": "python3"
  },
  "language_info": {
   "codemirror_mode": {
    "name": "ipython",
    "version": 3
   },
   "file_extension": ".py",
   "mimetype": "text/x-python",
   "name": "python",
   "nbconvert_exporter": "python",
   "pygments_lexer": "ipython3",
   "version": "3.7.3"
  }
 },
 "nbformat": 4,
 "nbformat_minor": 5
}
